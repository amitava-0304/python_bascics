{
 "cells": [
  {
   "cell_type": "markdown",
   "id": "dcac44a3",
   "metadata": {},
   "source": [
    "# 1.What are the two values of the Boolean data type? How do you write them?"
   ]
  },
  {
   "cell_type": "code",
   "execution_count": null,
   "id": "9d12420d",
   "metadata": {},
   "outputs": [],
   "source": [
    "The boolean value can be of two types only i.e. either True or False. \n"
   ]
  },
  {
   "cell_type": "code",
   "execution_count": 5,
   "id": "78e16f71",
   "metadata": {},
   "outputs": [
    {
     "name": "stdout",
     "output_type": "stream",
     "text": [
      "<class 'bool'>\n",
      "<class 'bool'>\n"
     ]
    }
   ],
   "source": [
    "flag1 = True\n",
    "flag2 = False\n",
    "print(type(flag1))\n",
    "print(type(flag2))\n"
   ]
  },
  {
   "cell_type": "markdown",
   "id": "b1eca621",
   "metadata": {},
   "source": [
    "# 2. What are the three different types of Boolean operators?"
   ]
  },
  {
   "cell_type": "code",
   "execution_count": null,
   "id": "74158325",
   "metadata": {},
   "outputs": [],
   "source": [
    "There are three logical operators in python.These operators are and, or, and not and are defined in the table below.\n",
    "Example\n",
    "and -True if both are true x and y\n",
    "or -True if at least one is true x or y\n",
    "not -True only if false not x"
   ]
  },
  {
   "cell_type": "markdown",
   "id": "3081962b",
   "metadata": {},
   "source": [
    "# 3. Make a list of each Boolean operator's truth tables (i.e. every possible combination of Boolean values for the operator and what it evaluate )."
   ]
  },
  {
   "cell_type": "code",
   "execution_count": 34,
   "id": "7b76d399",
   "metadata": {},
   "outputs": [],
   "source": [
    "list_values=[[0,0],[0,1],[1,0],[1,1]]"
   ]
  },
  {
   "cell_type": "code",
   "execution_count": 35,
   "id": "280cccae",
   "metadata": {},
   "outputs": [],
   "source": [
    "for i in range(4):\n",
    "    for j in range(1):\n",
    "        c=list_values[i][j] and list_values[i][j+1]\n",
    "    list_values[i].append(c)\n",
    "    "
   ]
  },
  {
   "cell_type": "code",
   "execution_count": 43,
   "id": "70464cff",
   "metadata": {},
   "outputs": [
    {
     "name": "stdout",
     "output_type": "stream",
     "text": [
      "Truth table of AND operator\n",
      " A  B AandB\n",
      "[0, 0, 0]\n",
      "[0, 1, 0]\n",
      "[1, 0, 0]\n",
      "[1, 1, 1]\n"
     ]
    }
   ],
   "source": [
    "print('Truth table of AND operator')\n",
    "print(\" A  B AandB\")\n",
    "for i in list_values:\n",
    "    print(i)"
   ]
  },
  {
   "cell_type": "code",
   "execution_count": 45,
   "id": "189c2839",
   "metadata": {},
   "outputs": [
    {
     "name": "stdout",
     "output_type": "stream",
     "text": [
      "Truth table of OR operator\n",
      " A  B AandB\n",
      "[0, 0, 0]\n",
      "[0, 1, 1]\n",
      "[1, 0, 1]\n",
      "[1, 1, 1]\n"
     ]
    }
   ],
   "source": [
    "list_values=[[0,0],[0,1],[1,0],[1,1]]\n",
    "for i in range(4):\n",
    "    for j in range(1):\n",
    "        c=list_values[i][j] or list_values[i][j+1]\n",
    "    list_values[i].append(c)\n",
    "\n",
    "print('Truth table of OR operator')\n",
    "print(\" A  B AandB\")\n",
    "for i in list_values:\n",
    "    print(i)"
   ]
  },
  {
   "cell_type": "code",
   "execution_count": 53,
   "id": "b7c07a90",
   "metadata": {},
   "outputs": [
    {
     "name": "stdout",
     "output_type": "stream",
     "text": [
      "Truth table of NOT operator\n",
      "A notA\n",
      "0 1\n",
      "1 0\n"
     ]
    }
   ],
   "source": [
    "list_values=[0,1]\n",
    "print('Truth table of NOT operator')\n",
    "print('A notA')\n",
    "for i in list_values:\n",
    "    c=not i\n",
    "    print(i,int(c))\n"
   ]
  },
  {
   "cell_type": "markdown",
   "id": "ef8ffb2d",
   "metadata": {},
   "source": [
    "# 4. What are the values of the following expressions?"
   ]
  },
  {
   "cell_type": "code",
   "execution_count": null,
   "id": "919656e3",
   "metadata": {},
   "outputs": [],
   "source": [
    "(5 > 4) and (3 == 5) #FALSE\n",
    "not (5 > 4) #FALSE\n",
    "(5 > 4) or (3 == 5) #TRUE\n",
    "not ((5 > 4) or (3 == 5)) #FALSE\n",
    "(True and True) and (True == False) #FALSE\n",
    "(not False) or (not True) #TRUE\n"
   ]
  },
  {
   "cell_type": "markdown",
   "id": "d04b5d3f",
   "metadata": {},
   "source": [
    "# 5. What are the six comparison operators?"
   ]
  },
  {
   "cell_type": "code",
   "execution_count": null,
   "id": "4bad81ef",
   "metadata": {},
   "outputs": [],
   "source": [
    "== -> Equal \n",
    "!= -> Not equal\n",
    "> -> Greater than\n",
    "< -> Less than\n",
    ">= -> Greater than or equal to\n",
    "<= -> Less than or equal to"
   ]
  },
  {
   "cell_type": "markdown",
   "id": "ee19aa0c",
   "metadata": {},
   "source": [
    "# 6. How do you tell the difference between the equal to and assignment operators?Describe a condition and when you would use one."
   ]
  },
  {
   "cell_type": "code",
   "execution_count": null,
   "id": "b2a18125",
   "metadata": {},
   "outputs": [],
   "source": [
    "It is an assignment operator.\n",
    "It is used for assigning the value to a variable.\n",
    "For example:\n",
    "a = 10;\n",
    "b = 20;\n",
    "ch = 'y';\n",
    "\n",
    "\n",
    "It is a relational or comparison operator.\n",
    "It is used for comparing two values. It returns 1 if both the values are equal otherwise returns 0.\n",
    "For example:\n",
    "5==5\n",
    "This will return true.\n"
   ]
  },
  {
   "cell_type": "code",
   "execution_count": 56,
   "id": "3eca318a",
   "metadata": {},
   "outputs": [
    {
     "name": "stdout",
     "output_type": "stream",
     "text": [
      "True\n"
     ]
    }
   ],
   "source": [
    "a='orange'\n",
    "b='orange'\n",
    "if a==b:\n",
    "    print(\"True\")\n",
    "else:\n",
    "    print(\"False\")"
   ]
  },
  {
   "cell_type": "markdown",
   "id": "c8fb112c",
   "metadata": {},
   "source": [
    "# 7. Identify the three blocks in this code:"
   ]
  },
  {
   "cell_type": "code",
   "execution_count": 2,
   "id": "2eaf17cf",
   "metadata": {},
   "outputs": [
    {
     "name": "stdout",
     "output_type": "stream",
     "text": [
      "ham\n",
      "spam\n",
      "spam\n"
     ]
    }
   ],
   "source": [
    "\n",
    "spam = 0\n",
    "if spam == 10:\n",
    "    print('eggs')\n",
    "if spam > 5:\n",
    "    print('bacon')\n",
    "else:\n",
    "    print('ham')\n",
    "print('spam')\n",
    "print('spam')\n"
   ]
  },
  {
   "cell_type": "code",
   "execution_count": null,
   "id": "c67df949",
   "metadata": {},
   "outputs": [],
   "source": [
    "The three blocks are everything inside the if statement and the lines print('bacon') and print('ham').\n",
    "print('eggs')"
   ]
  },
  {
   "cell_type": "markdown",
   "id": "f2998c07",
   "metadata": {},
   "source": [
    "# 8. Write code that prints Hello if 1 is stored in spam, prints Howdy if 2 is stored in spam, and prints Greetings! if anything else is stored in spam."
   ]
  },
  {
   "cell_type": "code",
   "execution_count": 3,
   "id": "0b27e4bb",
   "metadata": {},
   "outputs": [
    {
     "name": "stdout",
     "output_type": "stream",
     "text": [
      "Enter the value:1\n",
      "Hello\n"
     ]
    }
   ],
   "source": [
    "spam = int(input(\"Enter the value:\"))\n",
    "if spam == 1:\n",
    "    print('Hello')\n",
    "elif spam == 2:\n",
    "    print('Howdy')\n",
    "else:\n",
    "    print('Greetings!')"
   ]
  },
  {
   "cell_type": "markdown",
   "id": "f937fe99",
   "metadata": {},
   "source": [
    "# 9.If your programme is stuck in an endless loop, what keys you’ll press?"
   ]
  },
  {
   "cell_type": "code",
   "execution_count": null,
   "id": "0bfceb39",
   "metadata": {},
   "outputs": [],
   "source": [
    "CTRL + C"
   ]
  },
  {
   "cell_type": "markdown",
   "id": "be891ee1",
   "metadata": {},
   "source": [
    "# 10. How can you tell the difference between break and continue?"
   ]
  },
  {
   "cell_type": "code",
   "execution_count": null,
   "id": "984c58f4",
   "metadata": {},
   "outputs": [],
   "source": [
    "The break statement will move the execution outside and just after a loop. \n",
    "The continue statement will move the execution to the start of the loop."
   ]
  },
  {
   "cell_type": "markdown",
   "id": "02b70acc",
   "metadata": {},
   "source": [
    "# 11. In a for loop, what is the difference between range(10), range(0, 10), and range(0, 10, 1)?"
   ]
  },
  {
   "cell_type": "code",
   "execution_count": null,
   "id": "338f3443",
   "metadata": {},
   "outputs": [],
   "source": [
    "They all do the same thing. The range(10) call ranges from 0 up to (but not including) 10, range(0,10) explicitly tells \n",
    "the loop to start at 0 , and range (0,10,1) explicitly tells the loop to increase the variable by 1 on each iteration."
   ]
  },
  {
   "cell_type": "code",
   "execution_count": 4,
   "id": "5d9f58f0",
   "metadata": {},
   "outputs": [
    {
     "name": "stdout",
     "output_type": "stream",
     "text": [
      "0\n",
      "1\n",
      "2\n",
      "3\n",
      "4\n",
      "5\n",
      "6\n",
      "7\n",
      "8\n",
      "9\n"
     ]
    }
   ],
   "source": [
    "for i in range(10):\n",
    "    print(i)"
   ]
  },
  {
   "cell_type": "code",
   "execution_count": 5,
   "id": "06e9a14c",
   "metadata": {},
   "outputs": [
    {
     "name": "stdout",
     "output_type": "stream",
     "text": [
      "0\n",
      "1\n",
      "2\n",
      "3\n",
      "4\n",
      "5\n",
      "6\n",
      "7\n",
      "8\n",
      "9\n"
     ]
    }
   ],
   "source": [
    "for i in range(0,10):\n",
    "    print(i)"
   ]
  },
  {
   "cell_type": "code",
   "execution_count": 6,
   "id": "08397320",
   "metadata": {},
   "outputs": [
    {
     "name": "stdout",
     "output_type": "stream",
     "text": [
      "0\n",
      "1\n",
      "2\n",
      "3\n",
      "4\n",
      "5\n",
      "6\n",
      "7\n",
      "8\n",
      "9\n"
     ]
    }
   ],
   "source": [
    "for i in range(0,10,1):\n",
    "    print(i)"
   ]
  },
  {
   "cell_type": "markdown",
   "id": "2c878bd4",
   "metadata": {},
   "source": [
    "# 12. Write a short program that prints the numbers 1 to 10 using a for loop. Then write an equivalent program that prints the numbers 1 to 10 using a while loop."
   ]
  },
  {
   "cell_type": "code",
   "execution_count": 7,
   "id": "335c6a97",
   "metadata": {},
   "outputs": [
    {
     "name": "stdout",
     "output_type": "stream",
     "text": [
      "1\n",
      "2\n",
      "3\n",
      "4\n",
      "5\n",
      "6\n",
      "7\n",
      "8\n",
      "9\n",
      "10\n"
     ]
    }
   ],
   "source": [
    "for i in range(1,11):\n",
    "    print(i)"
   ]
  },
  {
   "cell_type": "code",
   "execution_count": 8,
   "id": "7ea8c7e8",
   "metadata": {},
   "outputs": [
    {
     "name": "stdout",
     "output_type": "stream",
     "text": [
      "1\n",
      "2\n",
      "3\n",
      "4\n",
      "5\n",
      "6\n",
      "7\n",
      "8\n",
      "9\n",
      "10\n"
     ]
    }
   ],
   "source": [
    "i=1\n",
    "while i<=10:\n",
    "    print(i)\n",
    "    i+=1"
   ]
  },
  {
   "cell_type": "markdown",
   "id": "5faab5a9",
   "metadata": {},
   "source": [
    "# 13. If you had a function named bacon() inside a module named spam, how would you call it after importing spam?"
   ]
  },
  {
   "cell_type": "code",
   "execution_count": null,
   "id": "66485f27",
   "metadata": {},
   "outputs": [],
   "source": [
    "import spam\n",
    "spam.bacon()"
   ]
  }
 ],
 "metadata": {
  "kernelspec": {
   "display_name": "Python 3 (ipykernel)",
   "language": "python",
   "name": "python3"
  },
  "language_info": {
   "codemirror_mode": {
    "name": "ipython",
    "version": 3
   },
   "file_extension": ".py",
   "mimetype": "text/x-python",
   "name": "python",
   "nbconvert_exporter": "python",
   "pygments_lexer": "ipython3",
   "version": "3.9.7"
  }
 },
 "nbformat": 4,
 "nbformat_minor": 5
}
