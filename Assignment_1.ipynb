{
 "cells": [
  {
   "cell_type": "markdown",
   "id": "932cd223",
   "metadata": {},
   "source": [
    "# 1. In the below elements which of them are values or an expression? eg:- values can be integer or string and expressions will be mathematical operators.\n",
    "\n",
    "    *\n",
    "    'hello'\n",
    "    -87.8\n",
    "    -\n",
    "    /\n",
    "    +\n",
    "    6\n",
    "\n"
   ]
  },
  {
   "cell_type": "code",
   "execution_count": null,
   "id": "5e260aed",
   "metadata": {},
   "outputs": [],
   "source": [
    "values are:\n",
    "    'hello',-87.8,6\n",
    "mathematical operators are:\n",
    "    *,-,/,+"
   ]
  },
  {
   "cell_type": "markdown",
   "id": "b0045a49",
   "metadata": {},
   "source": [
    "# 2. What is the difference between string and variable?"
   ]
  },
  {
   "cell_type": "code",
   "execution_count": null,
   "id": "d9bc27e5",
   "metadata": {},
   "outputs": [],
   "source": [
    "A variable is a name given to a memory location. It is the basic unit of storage in a program.Variables can store data of different types\n",
    "such as int,float,complex,string etc.\n",
    "Example var1 = 37, var2 = 13,5, var3 = 'python'\n",
    "\n",
    "Strings in python are surrounded by either single quotation marks, or double quotation marks.\n",
    "String is a type of information you would store in a Variable. A String is usually Text\n",
    "Example Strvar =\"Welcome to Python world\" Strvar is the Variable, and we declared it as a String."
   ]
  },
  {
   "cell_type": "markdown",
   "id": "d80c4321",
   "metadata": {},
   "source": [
    "# 3. Describe three different data types."
   ]
  },
  {
   "cell_type": "code",
   "execution_count": null,
   "id": "f6597746",
   "metadata": {},
   "outputs": [],
   "source": [
    "Integers – This value is represented by int class. It contains positive or negative whole numbers (without fraction or decimal). In Python there is no limit to how long an integer value can be.\n",
    "Example var1 = 37\n",
    "\n",
    "Float – This value is represented by float class. It is a real number with floating point representation. It is specified by a decimal point. Optionally, the character e or E followed by a positive or negative integer may be appended to specify scientific notation.\n",
    "Example var1 = 37.89\n",
    "\n",
    "String-A string is a collection of one or more characters put in a single quote, double-quote or triple quote. In python there is no character data type, a character is a string of length one. It is represented by str class.\n",
    "Example var1 = \"computer\""
   ]
  },
  {
   "cell_type": "markdown",
   "id": "a0af3aa1",
   "metadata": {},
   "source": [
    "# 4. What is an expression made up of? What do all expressions do?"
   ]
  },
  {
   "cell_type": "code",
   "execution_count": null,
   "id": "9b024800",
   "metadata": {},
   "outputs": [],
   "source": [
    "An Expression is a combination of variables and operators. There expressions perform operation of variable based on \n",
    "the operators and evaluates the values to a single variable.\n"
   ]
  },
  {
   "cell_type": "code",
   "execution_count": 7,
   "id": "7c55c91d",
   "metadata": {},
   "outputs": [
    {
     "name": "stdout",
     "output_type": "stream",
     "text": [
      "40+12=52\n"
     ]
    }
   ],
   "source": [
    "#variables\n",
    "x = 40\n",
    "y = 12\n",
    "\n",
    "#Expressions\n",
    "add = x + y\n",
    "  \n",
    "print(f\"{x}+{y}={add}\")\n"
   ]
  },
  {
   "cell_type": "markdown",
   "id": "4da928ee",
   "metadata": {},
   "source": [
    "# 5. This assignment statements, like spam = 10. What is the difference between an expression and a statement?"
   ]
  },
  {
   "cell_type": "raw",
   "id": "fbece7b4",
   "metadata": {},
   "source": [
    "The assignemnt statemets assign a value to the variable.\n",
    "An Expression is a sequence or combination of values, variables, operators and function calls that always produces or returns a result value.\n",
    "- in spam = 10 , value 10 in assigned to spam, and now spam will have value 10 as integer data type.\n",
    "- But in expression sum = num1+num2, the value of a depends on the value of num1 and num2."
   ]
  },
  {
   "cell_type": "markdown",
   "id": "322e4f69",
   "metadata": {},
   "source": [
    "# 6. After running the following code, what does the variable bacon contain?\n",
    "bacon = 22\n",
    "bacon + 1\n"
   ]
  },
  {
   "cell_type": "raw",
   "id": "a0102466",
   "metadata": {},
   "source": [
    "After running the code bacon value will be 22\n",
    "becon + 1 is not reassigned to becon again like, becon= becon + 1. So the value of becon is not changed"
   ]
  },
  {
   "cell_type": "code",
   "execution_count": 10,
   "id": "7c2539b5",
   "metadata": {},
   "outputs": [
    {
     "name": "stdout",
     "output_type": "stream",
     "text": [
      "23\n"
     ]
    }
   ],
   "source": [
    "bacon = 22 \n",
    "bacon=bacon + 1\n",
    "print(bacon)"
   ]
  },
  {
   "cell_type": "markdown",
   "id": "8c42f68e",
   "metadata": {},
   "source": [
    "# 7. What should the values of the following two terms be?\n",
    "'spam' + 'spamspam'\n",
    "'spam' * 3\n"
   ]
  },
  {
   "cell_type": "code",
   "execution_count": 11,
   "id": "fdcc9472",
   "metadata": {},
   "outputs": [
    {
     "data": {
      "text/plain": [
       "'spamspamspam'"
      ]
     },
     "execution_count": 11,
     "metadata": {},
     "output_type": "execute_result"
    }
   ],
   "source": [
    "'spam' + 'spamspam'"
   ]
  },
  {
   "cell_type": "code",
   "execution_count": 12,
   "id": "443eff15",
   "metadata": {},
   "outputs": [
    {
     "data": {
      "text/plain": [
       "'spamspamspam'"
      ]
     },
     "execution_count": 12,
     "metadata": {},
     "output_type": "execute_result"
    }
   ],
   "source": [
    "'spam' * 3"
   ]
  },
  {
   "cell_type": "markdown",
   "id": "203a38e1",
   "metadata": {},
   "source": [
    "# 8. Why is eggs a valid variable name while 100 is invalid?"
   ]
  },
  {
   "cell_type": "code",
   "execution_count": null,
   "id": "12cffd63",
   "metadata": {},
   "outputs": [],
   "source": [
    "A variable name must start with a letter or the underscore character\n",
    "Thats why 100 is invalid.\n",
    "eggs is a valid variable.\n"
   ]
  },
  {
   "cell_type": "code",
   "execution_count": 13,
   "id": "1be1e9e0",
   "metadata": {},
   "outputs": [
    {
     "name": "stdout",
     "output_type": "stream",
     "text": [
      "10\n"
     ]
    }
   ],
   "source": [
    "eggs=10\n",
    "print(eggs)"
   ]
  },
  {
   "cell_type": "code",
   "execution_count": 14,
   "id": "ea37a8c4",
   "metadata": {},
   "outputs": [
    {
     "ename": "SyntaxError",
     "evalue": "cannot assign to literal (Temp/ipykernel_7748/2823900786.py, line 1)",
     "output_type": "error",
     "traceback": [
      "\u001b[1;36m  File \u001b[1;32m\"C:\\Users\\sengu\\AppData\\Local\\Temp/ipykernel_7748/2823900786.py\"\u001b[1;36m, line \u001b[1;32m1\u001b[0m\n\u001b[1;33m    100='python'\u001b[0m\n\u001b[1;37m    ^\u001b[0m\n\u001b[1;31mSyntaxError\u001b[0m\u001b[1;31m:\u001b[0m cannot assign to literal\n"
     ]
    }
   ],
   "source": [
    "100='python'"
   ]
  },
  {
   "cell_type": "markdown",
   "id": "ccd54019",
   "metadata": {},
   "source": [
    "# 9. What three functions can be used to get the integer, floating-point number, or string version of a value?"
   ]
  },
  {
   "cell_type": "code",
   "execution_count": null,
   "id": "b744dd51",
   "metadata": {},
   "outputs": [],
   "source": [
    "\n",
    "    int() - constructs an integer number \n",
    "    float() - constructs a float number\n",
    "    str() - constructs a string \n"
   ]
  },
  {
   "cell_type": "code",
   "execution_count": 15,
   "id": "8752e17f",
   "metadata": {},
   "outputs": [],
   "source": [
    "x = int(1)   # x will be 1\n",
    "y = int(2.8) # y will be 2\n",
    "z = int(\"3\") # z will be 3"
   ]
  },
  {
   "cell_type": "code",
   "execution_count": 16,
   "id": "d3a2ef54",
   "metadata": {},
   "outputs": [],
   "source": [
    "x = float(1)     # x will be 1.0\n",
    "y = float(2.8)   # y will be 2.8\n",
    "z = float(\"3\")   # z will be 3.0"
   ]
  },
  {
   "cell_type": "code",
   "execution_count": 17,
   "id": "626facd5",
   "metadata": {},
   "outputs": [],
   "source": [
    "x = str(\"s1\") # x will be 's1'\n",
    "y = str(2)    # y will be '2'\n",
    "z = str(3.0)  # z will be '3.0' "
   ]
  },
  {
   "cell_type": "markdown",
   "id": "280dad11",
   "metadata": {},
   "source": [
    "# 10. Why does this expression cause an error? How can you fix it?\n",
    "'I have eaten ' + 99 + ' burritos.'\n"
   ]
  },
  {
   "cell_type": "code",
   "execution_count": 18,
   "id": "617e678c",
   "metadata": {},
   "outputs": [
    {
     "ename": "TypeError",
     "evalue": "can only concatenate str (not \"int\") to str",
     "output_type": "error",
     "traceback": [
      "\u001b[1;31m---------------------------------------------------------------------------\u001b[0m",
      "\u001b[1;31mTypeError\u001b[0m                                 Traceback (most recent call last)",
      "\u001b[1;32m~\\AppData\\Local\\Temp/ipykernel_7748/1774935878.py\u001b[0m in \u001b[0;36m<module>\u001b[1;34m\u001b[0m\n\u001b[1;32m----> 1\u001b[1;33m \u001b[1;34m'I have eaten '\u001b[0m \u001b[1;33m+\u001b[0m \u001b[1;36m99\u001b[0m \u001b[1;33m+\u001b[0m \u001b[1;34m' burritos.'\u001b[0m\u001b[1;33m\u001b[0m\u001b[1;33m\u001b[0m\u001b[0m\n\u001b[0m",
      "\u001b[1;31mTypeError\u001b[0m: can only concatenate str (not \"int\") to str"
     ]
    }
   ],
   "source": [
    "'I have eaten ' + 99 + ' burritos.'"
   ]
  },
  {
   "cell_type": "code",
   "execution_count": null,
   "id": "0cbb098a",
   "metadata": {},
   "outputs": [],
   "source": [
    "This error occurs when we try to adding (concatenating) an integer to a string\n",
    "This can be fixed by converting 99 into string by str(99)"
   ]
  },
  {
   "cell_type": "code",
   "execution_count": 19,
   "id": "883fe94e",
   "metadata": {},
   "outputs": [
    {
     "data": {
      "text/plain": [
       "'I have eaten 99 burritos.'"
      ]
     },
     "execution_count": 19,
     "metadata": {},
     "output_type": "execute_result"
    }
   ],
   "source": [
    "'I have eaten ' + str(99) + ' burritos.'"
   ]
  },
  {
   "cell_type": "code",
   "execution_count": null,
   "id": "8731cfde",
   "metadata": {},
   "outputs": [],
   "source": []
  }
 ],
 "metadata": {
  "kernelspec": {
   "display_name": "Python 3 (ipykernel)",
   "language": "python",
   "name": "python3"
  },
  "language_info": {
   "codemirror_mode": {
    "name": "ipython",
    "version": 3
   },
   "file_extension": ".py",
   "mimetype": "text/x-python",
   "name": "python",
   "nbconvert_exporter": "python",
   "pygments_lexer": "ipython3",
   "version": "3.9.7"
  }
 },
 "nbformat": 4,
 "nbformat_minor": 5
}
