{
 "cells": [
  {
   "cell_type": "code",
   "execution_count": null,
   "id": "f29ae49f",
   "metadata": {},
   "outputs": [],
   "source": [
    "1. What is the result of the code, and explain?\n",
    "\n",
    ">>> X = 'iNeuron'\n",
    ">>> def func():\n",
    "print(X)\n",
    ">>> func()"
   ]
  },
  {
   "cell_type": "markdown",
   "id": "cf1206ef",
   "metadata": {},
   "source": [
    "Ans: The Result of this code is iNeuron, it's because the function intially looks for the variable X in its local scope,But since there is no local variable X, its returns the value of global variable x ie iNeuron"
   ]
  },
  {
   "cell_type": "code",
   "execution_count": 1,
   "id": "a035126c",
   "metadata": {},
   "outputs": [
    {
     "name": "stdout",
     "output_type": "stream",
     "text": [
      "iNeuron\n"
     ]
    }
   ],
   "source": [
    "X = 'iNeuron'\n",
    "def func():\n",
    "    print(X)\n",
    "func()"
   ]
  },
  {
   "cell_type": "code",
   "execution_count": null,
   "id": "8d935ea6",
   "metadata": {},
   "outputs": [],
   "source": [
    "2. What is the result of the code, and explain?\n",
    "\n",
    ">>> X = 'iNeuron'\n",
    ">>> def func():\n",
    "X = 'NI!'\n",
    ">>> func()\n",
    ">>> print(X)"
   ]
  },
  {
   "cell_type": "raw",
   "id": "30f743b1",
   "metadata": {},
   "source": [
    "The global variables are access in side the functions in python. But we can not access function variable out side \n",
    "function. \n",
    "Since x is golbal variable we are able to print it out side of the function\n",
    "solution = 'iNeuron'"
   ]
  },
  {
   "cell_type": "code",
   "execution_count": 2,
   "id": "06040b73",
   "metadata": {},
   "outputs": [
    {
     "name": "stdout",
     "output_type": "stream",
     "text": [
      "iNeuron\n"
     ]
    }
   ],
   "source": [
    "X = 'iNeuron'\n",
    "def func():\n",
    "    X = 'NI!'\n",
    "\n",
    "func()\n",
    "print(X)"
   ]
  },
  {
   "cell_type": "code",
   "execution_count": null,
   "id": "77be8c2f",
   "metadata": {},
   "outputs": [],
   "source": [
    "3. What does this code print, and why?\n",
    "\n",
    ">>> X = 'iNeuron'\n",
    ">>> def func():\n",
    "X = 'NI'\n",
    "print(X)\n",
    ">>> func()\n",
    ">>> print(X)"
   ]
  },
  {
   "cell_type": "raw",
   "id": "600ec45f",
   "metadata": {},
   "source": [
    "The output of the code is NI and iNeuron. X=NI is in the local scope of the function func() hence the function prints the x value as NI. X = 'iNeuron' is in the global scope. hence print(X) prints output as iNeuron"
   ]
  },
  {
   "cell_type": "code",
   "execution_count": 3,
   "id": "f5cfdba4",
   "metadata": {},
   "outputs": [
    {
     "name": "stdout",
     "output_type": "stream",
     "text": [
      "NI\n",
      "iNeuron\n"
     ]
    }
   ],
   "source": [
    "X = 'iNeuron'\n",
    "def func():\n",
    "    X = 'NI'\n",
    "    print(X)\n",
    "func()\n",
    "print(X)"
   ]
  },
  {
   "cell_type": "code",
   "execution_count": null,
   "id": "8074765f",
   "metadata": {},
   "outputs": [],
   "source": [
    "4. What output does this code produce? Why?\n",
    "\n",
    ">>> X = 'iNeuron'\n",
    ">>> def func():\n",
    "global X\n",
    "X = 'NI'\n",
    ">>> func()\n",
    ">>> print(X)"
   ]
  },
  {
   "cell_type": "raw",
   "id": "5a7d396f",
   "metadata": {},
   "source": [
    "The output of the code is NI. the global keyword allows a variable to be accessible in the current scope. since we are using global keyword inside the function func it directly access the variable in X in global scope. and changes its value to NI. hence the output of the code is NI"
   ]
  },
  {
   "cell_type": "code",
   "execution_count": 4,
   "id": "3943c557",
   "metadata": {},
   "outputs": [
    {
     "name": "stdout",
     "output_type": "stream",
     "text": [
      "NI\n"
     ]
    }
   ],
   "source": [
    "X = 'iNeuron'\n",
    "def func():\n",
    "    global X\n",
    "    X = 'NI'\n",
    "func()\n",
    "print(X)"
   ]
  },
  {
   "cell_type": "code",
   "execution_count": null,
   "id": "8240e52c",
   "metadata": {},
   "outputs": [],
   "source": [
    "5. What about this code—what’s the output, and why?\n",
    "\n",
    ">>> X = 'iNeuron'\n",
    ">>> def func():\n",
    "X = 'NI'\n",
    "def nested():\n",
    "print(X)\n",
    "nested()\n",
    ">>> func()\n",
    ">>> X"
   ]
  },
  {
   "cell_type": "raw",
   "id": "e3ad92c6",
   "metadata": {},
   "source": [
    "The output of the code is NI. the reason for this output is if a function wants to access a variable, if its not available in its localscope. it looks for the variable in its global scope. similarly here also function nested looks for variable X in its global scope. hence the output of the code is NI"
   ]
  },
  {
   "cell_type": "code",
   "execution_count": 5,
   "id": "fad74910",
   "metadata": {},
   "outputs": [
    {
     "name": "stdout",
     "output_type": "stream",
     "text": [
      "NI\n"
     ]
    },
    {
     "data": {
      "text/plain": [
       "'iNeuron'"
      ]
     },
     "execution_count": 5,
     "metadata": {},
     "output_type": "execute_result"
    }
   ],
   "source": [
    "X = 'iNeuron'\n",
    "def func():\n",
    "    X = 'NI'\n",
    "    def nested():\n",
    "        print(X)\n",
    "    nested()\n",
    "func()\n",
    "X"
   ]
  },
  {
   "cell_type": "code",
   "execution_count": null,
   "id": "c2e7d802",
   "metadata": {},
   "outputs": [],
   "source": [
    "6. How about this code: what is its output in Python 3, and explain?\n",
    "\n",
    ">>> def func():\n",
    "X = 'NI'\n",
    "def nested():\n",
    "nonlocal X\n",
    "X = 'Spam'\n",
    "nested()\n",
    "print(X)\n",
    ">>> func()"
   ]
  },
  {
   "cell_type": "raw",
   "id": "42dfa9e0",
   "metadata": {},
   "source": [
    "The output of the code is Spam. nonlocal keyword in python is used to declare a variable as not local.Hence the statement X = \"Spam\" is modified in the global scope. hence the output of print(X) statement is Spam"
   ]
  },
  {
   "cell_type": "code",
   "execution_count": 6,
   "id": "8b529dd2",
   "metadata": {},
   "outputs": [
    {
     "name": "stdout",
     "output_type": "stream",
     "text": [
      "Spam\n"
     ]
    }
   ],
   "source": [
    "def func():\n",
    "    X = 'NI'\n",
    "    def nested():\n",
    "        nonlocal X\n",
    "        X = 'Spam'\n",
    "    nested()\n",
    "    print(X)\n",
    "func()"
   ]
  },
  {
   "cell_type": "code",
   "execution_count": null,
   "id": "b4a3fcab",
   "metadata": {},
   "outputs": [],
   "source": []
  }
 ],
 "metadata": {
  "kernelspec": {
   "display_name": "Python 3 (ipykernel)",
   "language": "python",
   "name": "python3"
  },
  "language_info": {
   "codemirror_mode": {
    "name": "ipython",
    "version": 3
   },
   "file_extension": ".py",
   "mimetype": "text/x-python",
   "name": "python",
   "nbconvert_exporter": "python",
   "pygments_lexer": "ipython3",
   "version": "3.9.7"
  }
 },
 "nbformat": 4,
 "nbformat_minor": 5
}
