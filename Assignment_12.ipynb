{
 "cells": [
  {
   "cell_type": "code",
   "execution_count": 1,
   "id": "e9fcc033",
   "metadata": {},
   "outputs": [
    {
     "name": "stdout",
     "output_type": "stream",
     "text": [
      "Collecting PyPDF2\n",
      "  Downloading PyPDF2-2.4.0-py3-none-any.whl (197 kB)\n",
      "Requirement already satisfied: typing-extensions in c:\\users\\sengu\\anaconda3\\lib\\site-packages (from PyPDF2) (3.10.0.2)\n",
      "Installing collected packages: PyPDF2\n",
      "Successfully installed PyPDF2-2.4.0\n"
     ]
    }
   ],
   "source": [
    "!pip install PyPDF2"
   ]
  },
  {
   "cell_type": "markdown",
   "id": "009bade6",
   "metadata": {},
   "source": [
    "# 1. In what modes should the PdfFileReader() and PdfFileWriter() File objects will be opened?"
   ]
  },
  {
   "cell_type": "code",
   "execution_count": null,
   "id": "930e6b0a",
   "metadata": {},
   "outputs": [],
   "source": [
    "These files will be opened in binary mode., read binary (rb) for PdfFileREader() and write binary (wb) PdfFileWriter()"
   ]
  },
  {
   "cell_type": "markdown",
   "id": "8a378aaf",
   "metadata": {},
   "source": [
    "# 2. From a PdfFileReader object, how do you get a Page object for page 5?"
   ]
  },
  {
   "cell_type": "code",
   "execution_count": 2,
   "id": "e92095f7",
   "metadata": {},
   "outputs": [
    {
     "data": {
      "text/plain": [
       "\"Types of sentences\\n \\n\\nActive and passive sentences. Example:\\n  \\n\\n•\\n \\nRahul plays cricket.\\n \\n\\n•\\n \\nCricket is played by Rahul.\\n \\n\\n \\n\\nTypes of sentences (according to their purpose)\\n  \\n\\n \\n \\n\\nSession 6: Pronunciation Basics\\n  \\n\\nCorrect pronunciation of words is very important to communicate well. Listen to \\n\\ncorrect speeches and\\n \\npractising more and more you can achieve good pronunciation \\n\\nof words.\\n \\n\\n \\n\\nDifferent Sounds in English\\n  \\n\\nVowels:\\n \\nThere are 5 vowels in the English language like a, e, i, o, u\\n  \\n\\nConsonants:\\n \\nA total of 21 Consonants are there.\\n  \\n\\nDiphthongs:\\n \\nCombination of two vowel sounds like ou, ea\\n  \\n\\n \\n\\n \\n\\nSession 7: Greetings and Introductions\\n  \\n\\nTypes of greetings\\n \\n\\nFormal greetings: It is used when you don't know the person or to greet elderly \\n\\npeople.\\n \\n\\nInformal greetings: It is used to greet friends, family or a person known to you.\\n  \\n\\n \\n\\n \\n\\nSession 8: Talking about Self\\n  \\n\\nTalking about yourself means introducing yourself. While introducing yourself keep it \\n\\nconcise and tell some basic things like name, age, add\\n ress, likes, dislikes.\\n \\n\\n \\n\\nSession 9: Asking Questions I\\n  \\n\""
      ]
     },
     "execution_count": 2,
     "metadata": {},
     "output_type": "execute_result"
    }
   ],
   "source": [
    "import PyPDF2 as pdf\n",
    "pdfFileObj = open(\"C:\\\\file\\\\Unit 1.pdf\",'rb')\n",
    "pdfReader = pdf.PdfFileReader(pdfFileObj)\n",
    "pageObj = pdfReader.getPage(4)\n",
    "pageObj.extractText()"
   ]
  },
  {
   "cell_type": "markdown",
   "id": "41b7da4c",
   "metadata": {},
   "source": [
    "# 3. What PdfFileReader variable stores the number of pages in the PDF document?"
   ]
  },
  {
   "cell_type": "code",
   "execution_count": 3,
   "id": "d17ee29b",
   "metadata": {},
   "outputs": [
    {
     "data": {
      "text/plain": [
       "6"
      ]
     },
     "execution_count": 3,
     "metadata": {},
     "output_type": "execute_result"
    }
   ],
   "source": [
    "import PyPDF2 as pdf\n",
    "pdfFileObj = open(\"C:\\\\file\\\\Unit 1.pdf\",'rb')\n",
    "pdfReader = pdf.PdfFileReader(pdfFileObj)\n",
    "pdfReader.numPages"
   ]
  },
  {
   "cell_type": "markdown",
   "id": "24104a4a",
   "metadata": {},
   "source": [
    "# 4. If a PdfFileReader object’s PDF is encrypted with the password swordfish, what must you do before you can obtain Page objects from it?"
   ]
  },
  {
   "cell_type": "code",
   "execution_count": null,
   "id": "76f3a7dd",
   "metadata": {},
   "outputs": [],
   "source": [
    " Before we obtain the page object, the pdf has to be decrypted by calling .decrypt('swordfish')\n",
    " pdfReader.decrypt('swordfish')   "
   ]
  },
  {
   "cell_type": "markdown",
   "id": "dfc86e75",
   "metadata": {},
   "source": [
    "# 5. What methods do you use to rotate a page?"
   ]
  },
  {
   "cell_type": "code",
   "execution_count": null,
   "id": "15b1ae83",
   "metadata": {},
   "outputs": [],
   "source": [
    "pageObj.rotateClockwise(180)\n",
    "\n",
    "The rotateClockwise() and rotateCounterClockwise() methods. The degrees to rotate is passed as an integer argument"
   ]
  },
  {
   "cell_type": "markdown",
   "id": "73506493",
   "metadata": {},
   "source": [
    "# 6. What is the difference between a Run object and a Paragraph object?"
   ]
  },
  {
   "cell_type": "raw",
   "id": "5e9a1935",
   "metadata": {},
   "source": [
    "Paragraph Object : A document contains multiple paragraphs. A paragraph begins on a new line and contains multiple runs. The Document object contains a list of Paragraph objects for the paragraphs in the document. (A new paragraph begins whenever the user presses ENTER or RETURN while typing in a Word document.)\n",
    "Run Objects : Runs are contiguous groups of characters within a paragraph with the same style"
   ]
  },
  {
   "cell_type": "markdown",
   "id": "0fe8ee4e",
   "metadata": {},
   "source": [
    "# 7. How do you obtain a list of Paragraph objects for a Document object that’s stored in a variable named doc?"
   ]
  },
  {
   "cell_type": "code",
   "execution_count": 4,
   "id": "d1a03411",
   "metadata": {},
   "outputs": [
    {
     "name": "stdout",
     "output_type": "stream",
     "text": [
      "Collecting python-docx\n",
      "  Downloading python-docx-0.8.11.tar.gz (5.6 MB)\n",
      "Requirement already satisfied: lxml>=2.3.2 in c:\\users\\sengu\\anaconda3\\lib\\site-packages (from python-docx) (4.6.3)\n",
      "Building wheels for collected packages: python-docx\n",
      "  Building wheel for python-docx (setup.py): started\n",
      "  Building wheel for python-docx (setup.py): finished with status 'done'\n",
      "  Created wheel for python-docx: filename=python_docx-0.8.11-py3-none-any.whl size=184508 sha256=8ed42992ae5489eeabd5ad0bb89a3bcfad93cfd1cb3a1e955f0f73a0f0f2c53b\n",
      "  Stored in directory: c:\\users\\sengu\\appdata\\local\\pip\\cache\\wheels\\83\\8b\\7c\\09ae60c42c7ba4ed2dddaf2b8b9186cb105255856d6ed3dba5\n",
      "Successfully built python-docx\n",
      "Installing collected packages: python-docx\n",
      "Successfully installed python-docx-0.8.11\n"
     ]
    }
   ],
   "source": [
    "!pip install python-docx\n"
   ]
  },
  {
   "cell_type": "code",
   "execution_count": 6,
   "id": "70867bea",
   "metadata": {},
   "outputs": [
    {
     "data": {
      "text/plain": [
       "[<docx.text.paragraph.Paragraph at 0x188b1602880>,\n",
       " <docx.text.paragraph.Paragraph at 0x188b1602b80>,\n",
       " <docx.text.paragraph.Paragraph at 0x188b1602a60>,\n",
       " <docx.text.paragraph.Paragraph at 0x188b1602e80>,\n",
       " <docx.text.paragraph.Paragraph at 0x188b1602df0>,\n",
       " <docx.text.paragraph.Paragraph at 0x188b1602d30>,\n",
       " <docx.text.paragraph.Paragraph at 0x188b1602f40>,\n",
       " <docx.text.paragraph.Paragraph at 0x188b1602c40>,\n",
       " <docx.text.paragraph.Paragraph at 0x188b1602fa0>,\n",
       " <docx.text.paragraph.Paragraph at 0x188b1602ee0>,\n",
       " <docx.text.paragraph.Paragraph at 0x188b1602f70>,\n",
       " <docx.text.paragraph.Paragraph at 0x188b130ad90>,\n",
       " <docx.text.paragraph.Paragraph at 0x188b130ae50>,\n",
       " <docx.text.paragraph.Paragraph at 0x188b1074970>,\n",
       " <docx.text.paragraph.Paragraph at 0x188b16cd070>,\n",
       " <docx.text.paragraph.Paragraph at 0x188b16cd1c0>,\n",
       " <docx.text.paragraph.Paragraph at 0x188b16cd0a0>,\n",
       " <docx.text.paragraph.Paragraph at 0x188b16cd280>,\n",
       " <docx.text.paragraph.Paragraph at 0x188b16cd160>,\n",
       " <docx.text.paragraph.Paragraph at 0x188b16cd8e0>,\n",
       " <docx.text.paragraph.Paragraph at 0x188b16cd940>,\n",
       " <docx.text.paragraph.Paragraph at 0x188b16cd9a0>,\n",
       " <docx.text.paragraph.Paragraph at 0x188b16cda00>,\n",
       " <docx.text.paragraph.Paragraph at 0x188b16cda60>,\n",
       " <docx.text.paragraph.Paragraph at 0x188b16cdac0>,\n",
       " <docx.text.paragraph.Paragraph at 0x188b16cdb20>,\n",
       " <docx.text.paragraph.Paragraph at 0x188b16cdb80>,\n",
       " <docx.text.paragraph.Paragraph at 0x188b16cdbe0>,\n",
       " <docx.text.paragraph.Paragraph at 0x188b16cdc40>,\n",
       " <docx.text.paragraph.Paragraph at 0x188b16cdca0>,\n",
       " <docx.text.paragraph.Paragraph at 0x188b16cdd00>,\n",
       " <docx.text.paragraph.Paragraph at 0x188b16cdd60>,\n",
       " <docx.text.paragraph.Paragraph at 0x188b16cddc0>,\n",
       " <docx.text.paragraph.Paragraph at 0x188b16cde20>,\n",
       " <docx.text.paragraph.Paragraph at 0x188b16cde80>,\n",
       " <docx.text.paragraph.Paragraph at 0x188b16cdee0>,\n",
       " <docx.text.paragraph.Paragraph at 0x188b16cdf40>,\n",
       " <docx.text.paragraph.Paragraph at 0x188b16cdfa0>,\n",
       " <docx.text.paragraph.Paragraph at 0x188b26a1040>,\n",
       " <docx.text.paragraph.Paragraph at 0x188b26a10a0>,\n",
       " <docx.text.paragraph.Paragraph at 0x188b26a1100>,\n",
       " <docx.text.paragraph.Paragraph at 0x188b26a1160>,\n",
       " <docx.text.paragraph.Paragraph at 0x188b26a11c0>,\n",
       " <docx.text.paragraph.Paragraph at 0x188b26a1220>,\n",
       " <docx.text.paragraph.Paragraph at 0x188b26a1280>,\n",
       " <docx.text.paragraph.Paragraph at 0x188b26a12e0>,\n",
       " <docx.text.paragraph.Paragraph at 0x188b26a1340>,\n",
       " <docx.text.paragraph.Paragraph at 0x188b26a13a0>,\n",
       " <docx.text.paragraph.Paragraph at 0x188b26a1400>,\n",
       " <docx.text.paragraph.Paragraph at 0x188b26a1460>,\n",
       " <docx.text.paragraph.Paragraph at 0x188b26a14c0>,\n",
       " <docx.text.paragraph.Paragraph at 0x188b26a1520>]"
      ]
     },
     "execution_count": 6,
     "metadata": {},
     "output_type": "execute_result"
    }
   ],
   "source": [
    "import docx\n",
    "doc = docx.Document('C:\\\\file\\\\Syllabus-Basic computer.docx')\n",
    "doc.paragraphs\n",
    "#By using doc.paragraphs"
   ]
  },
  {
   "cell_type": "markdown",
   "id": "0d5870f9",
   "metadata": {},
   "source": [
    "# 8. What type of object has bold, underline, italic, strike, and outline variables?"
   ]
  },
  {
   "cell_type": "code",
   "execution_count": null,
   "id": "154a7ac3",
   "metadata": {},
   "outputs": [],
   "source": [
    "A Run object has bold, underline,italic,strike and outline variables"
   ]
  },
  {
   "cell_type": "markdown",
   "id": "e128f354",
   "metadata": {},
   "source": [
    "# 9. What is the difference between False, True, and None for the bold variable?"
   ]
  },
  {
   "cell_type": "raw",
   "id": "26ecc57f",
   "metadata": {},
   "source": [
    "# Runs can be further styled using text attributes. Each attribute can be set to one of three values:\n",
    "True (the attribute is always enabled, no matter what other styles are applied to the run),\n",
    "False (the attribute is always disabled),\n",
    "None (defaults to whatever the run’s style is set to)\n",
    "\n",
    "True always makes the Run object bolded and False makes it always not bolded, no matter what the style’s bold setting is. None will make the Run object just use the style’s bold setting"
   ]
  },
  {
   "cell_type": "markdown",
   "id": "d80a7587",
   "metadata": {},
   "source": [
    "# 10. How do you create a Document object for a new Word document?"
   ]
  },
  {
   "cell_type": "code",
   "execution_count": null,
   "id": "a22f1e61",
   "metadata": {},
   "outputs": [],
   "source": [
    "By Calling the docx.Document() function"
   ]
  },
  {
   "cell_type": "markdown",
   "id": "570063cf",
   "metadata": {},
   "source": [
    "# 11. How do you add a paragraph with the text &#39;Hello, there!&#39; to a Document object stored in a variable named doc?"
   ]
  },
  {
   "cell_type": "code",
   "execution_count": null,
   "id": "78bcbb9f",
   "metadata": {},
   "outputs": [],
   "source": [
    "import docx\n",
    "doc = docx.Document()\n",
    "\n",
    "doc.add_paragraph('Hello there!')\n",
    "doc.save('C:\\\\file\\\\hellothere.docx')"
   ]
  },
  {
   "cell_type": "markdown",
   "id": "3f47fb6f",
   "metadata": {},
   "source": [
    "# 12. What integers represent the levels of headings available in Word documents?"
   ]
  },
  {
   "cell_type": "markdown",
   "id": "b2d8c05d",
   "metadata": {},
   "source": [
    "integer from 0 to 4\n",
    "The arguments to add_heading() are a string of the heading text and an integer from 0 to 4. \n",
    "The integer 0 makes the heading the Title style, which is used for the top of the document. \n",
    "Integers 1 to 4 are for various heading levels, with 1 being the main heading and 4 the lowest subheading"
   ]
  },
  {
   "cell_type": "code",
   "execution_count": null,
   "id": "ebcc1e47",
   "metadata": {},
   "outputs": [],
   "source": []
  }
 ],
 "metadata": {
  "kernelspec": {
   "display_name": "Python 3 (ipykernel)",
   "language": "python",
   "name": "python3"
  },
  "language_info": {
   "codemirror_mode": {
    "name": "ipython",
    "version": 3
   },
   "file_extension": ".py",
   "mimetype": "text/x-python",
   "name": "python",
   "nbconvert_exporter": "python",
   "pygments_lexer": "ipython3",
   "version": "3.9.7"
  }
 },
 "nbformat": 4,
 "nbformat_minor": 5
}
